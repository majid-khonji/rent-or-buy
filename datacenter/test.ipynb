{
 "cells": [
  {
   "cell_type": "code",
   "execution_count": 1,
   "metadata": {},
   "outputs": [],
   "source": [
    "import input as inp\n",
    "import alg as a\n",
    "import numpy as np\n",
    "from importlib import reload\n",
    "import matplotlib.pyplot as plt\n",
    "import pandas as pd\n",
    "import time\n",
    "import random"
   ]
  },
  {
   "cell_type": "code",
   "execution_count": 3,
   "metadata": {},
   "outputs": [],
   "source": [
    "# time interval is 10 minutes per t, total in 24 hours\n",
    "t = 144\n",
    "\n",
    "# time-of-use energy price.\n",
    "origin = [0.3088,0.2208, 0.1738]\n",
    "energyPlan = origin\n",
    "\n",
    "Cidle = 1\n",
    "Cpeak = 3\n",
    "\n",
    "# turn on sever cost\n",
    "Cs = 4\n",
    "\n",
    "# energy unit price per t\n",
    "pt = [0] * t\n",
    "for i in range(t):\n",
    "    if i < 49:\n",
    "        pt[i] = energyPlan[2];\n",
    "    elif i > 48 and i<55:\n",
    "        pt[i] = energyPlan[0];\n",
    "    elif i > 54 and i < 66:\n",
    "        pt[i] = energyPlan[1];\n",
    "    elif i > 65 and i < 84:\n",
    "        pt[i] = energyPlan[0];\n",
    "    elif i > 83 and i < 102:\n",
    "        pt[i] = energyPlan[1];\n",
    "    elif i > 101 and i < 126:\n",
    "        pt[i] = energyPlan[0];\n",
    "    else:\n",
    "        pt[i] = energyPlan[2];\n",
    "\n",
    "#server power consumpation\n",
    "#bt = Cidle * Xsv + (Cpeak - Cidle) * Aw1\n",
    "\n",
    "# workload to be served per t\n",
    "Aw1 = [0]\n",
    "for i in range(t):\n",
    "    if i > 0:\n",
    "        Aw1.append(random.randint(0, 1))\n",
    "OPT1=0\n",
    "xi = [1]*144\n",
    "xi[0] = 0\n",
    "for m in range(144):\n",
    "    OPT1 += pt[m] * (Cidle*xi[m] + (Cpeak - Cidle) * Aw1[m])"
   ]
  },
  {
   "cell_type": "code",
   "execution_count": 23,
   "metadata": {},
   "outputs": [
    {
     "name": "stdout",
     "output_type": "stream",
     "text": [
      "[1.40725    1.4063     1.42813333 1.45621667 1.33471667 1.28215\n",
      " 1.21326667 1.15111667 1.12       1.13      ]\n"
     ]
    }
   ],
   "source": [
    "w_list = np.arange(0,1,.1)\n",
    "repeat = 50\n",
    "alg_reps = 100\n",
    "c_ratio = np.zeros((len(w_list), repeat))\n",
    "for idx,w in enumerate(w_list):\n",
    "    for j in np.arange(repeat):\n",
    "        ins = inp.Instance(B=4,time_dependant=True,predictor_std=0)\n",
    "        alg_total = 0\n",
    "        for l in range(alg_reps):\n",
    "            alg_total += a.RPOA(ins, w)\n",
    "        opt = a.OPT(ins)\n",
    "        alg_avg = alg_total/alg_reps\n",
    "        c_ratio[idx, j] = alg_avg/opt\n",
    "avg_ratio2 = np.mean(c_ratio, axis=1)\n",
    "\n",
    "\n"
   ]
  },
  {
   "cell_type": "code",
   "execution_count": 22,
   "metadata": {},
   "outputs": [
    {
     "name": "stdout",
     "output_type": "stream",
     "text": [
      "[1.44    1.432   1.424   1.423   1.42075 1.2715  1.281   1.29    1.14075\n",
      " 1.1415  1.     ]\n"
     ]
    }
   ],
   "source": [
    "w_list = np.arange(0,1.1,.1)\n",
    "repeat = 1000\n",
    "c_ratio = np.zeros((len(w_list), repeat))\n",
    "for idx,w in enumerate(w_list):\n",
    "    for j in np.arange(repeat):\n",
    "        ins = inp.Instance(B=4,time_dependant=True,predictor_std=0)\n",
    "        alg = a.DPOA(ins, w)\n",
    "        opt = a.OPT(ins)\n",
    "        c_ratio[idx, j] = alg/opt\n",
    "avg_ratio1 = np.mean(c_ratio, axis=1)\n"
   ]
  },
  {
   "cell_type": "code",
   "execution_count": 16,
   "metadata": {},
   "outputs": [],
   "source": [
    "# total cost to operate the datacenter\n",
    "DPOA = 0\n",
    "RPOA = 0\n",
    "OPT = 0\n",
    "\n",
    "repeat = 10\n",
    "instance = 100\n",
    "w_list = np.arange(0,1,.1)\n",
    "plot_DPOA = []\n",
    "plot_RPOA = []\n",
    "# std = 0\n",
    "std_list = np.arange(0,22,2)\n",
    "\n",
    "for idx,w in enumerate(w_list):\n",
    "    plot_1 = []\n",
    "    plot_2 = []\n",
    "    for m in range(repeat):\n",
    "        for i in range(instance):\n",
    "            ins = inp.Instance(w, B=Cs, time_dependant=False,predictor_std=0)\n",
    "            energyCost_DPOA = 0\n",
    "            switchCost_DPOA = 0\n",
    "            totalCoST_DPOA = 0\n",
    "            Xsv_DPOA = [0]\n",
    "            status_DPOA = 1\n",
    "            i0 = 0\n",
    "            for i in range(t-1):\n",
    "                if Aw1[i] == 1:\n",
    "                    i0 = i\n",
    "                    status_DPOA = 1\n",
    "                    Xsv_DPOA.append(1)\n",
    "                    energyCost_DPOA += pt[i] * (Cidle + (Cpeak - Cidle) * Aw1[i])\n",
    "                else:\n",
    "                    buy = a.DPOA_eval(ins,w)\n",
    "                    if buy:\n",
    "                        if status_DPOA == 0:\n",
    "                            Xsv_DPOA.append(0)\n",
    "                            continue\n",
    "                        Xsv_DPOA.append(0)\n",
    "                        status_DPOA = 0\n",
    "                        switchCost_DPOA += Cs\n",
    "                        energyCost_DPOA += 0\n",
    "                    else:\n",
    "                        Xsv_DPOA.append(1)\n",
    "                        status_DPOA = 1\n",
    "                        switchCost_DPOA += 0\n",
    "                        energyCost_DPOA += pt[i] * (Cidle + (Cpeak - Cidle) * Aw1[i])\n",
    "            totalCost_DPOA = energyCost_DPOA + switchCost_DPOA\n",
    "            \n",
    "            energyCost_RPOA = 0\n",
    "            switchCost_RPOA = 0\n",
    "            totalCoST_RPOA = 0\n",
    "            status_RPOA = 1\n",
    "            Xsv_RPOA= [0]\n",
    "            i0=0\n",
    "            for i in range(t-1):\n",
    "                # buy or rent\n",
    "                if Aw1[i] == 1:\n",
    "                    status_RPOA = 1\n",
    "                    Xsv_RPOA.append(1)\n",
    "                    energyCost_RPOA += pt[i] * (Cidle + (Cpeak - Cidle) * Aw1[i])\n",
    "                else:\n",
    "                    buy = a.RPOA_eval(ins,w)\n",
    "                    if buy:\n",
    "                        if status_RPOA == 0:\n",
    "                            Xsv_RPOA.append(0)\n",
    "                            continue\n",
    "                        Xsv_RPOA.append(0)\n",
    "                        status_RPOA = 0\n",
    "                        switchCost_RPOA += Cs\n",
    "                        energyCost_RPOA += 0\n",
    "                    else:\n",
    "                        Xsv_RPOA.append(1)\n",
    "                        status_RPOA = 1\n",
    "                        switchCost_RPOA += 0\n",
    "                        energyCost_RPOA += pt[i] * (Cidle + (Cpeak - Cidle) * Aw1[i])\n",
    "            totalCost_RPOA = energyCost_RPOA + switchCost_RPOA\n",
    "\n",
    "            energyCost_opt = 0\n",
    "            switchCost_opt = 0\n",
    "            totalCoST_opt = 0\n",
    "            Xsv_opt= [0]\n",
    "            temp = 0\n",
    "            count = 0\n",
    "            temp_energyCost = 0\n",
    "            switch = 0\n",
    "            for i in range(len(Aw1)):\n",
    "                if Aw1[i] == 1:\n",
    "                    temp = 0\n",
    "                    count = 0\n",
    "                    temp_energyCost = 0\n",
    "                    switch = 0\n",
    "                    Xsv_opt.append(1)\n",
    "                    energyCost_opt += pt[i] * (Cidle + (Cpeak - Cidle) * Aw1[i])\n",
    "                else:\n",
    "                    temp += Cidle\n",
    "                    count += 1\n",
    "                    if temp > Cs:\n",
    "                        switch = 1\n",
    "                    else:\n",
    "                        temp_energyCost += pt[i] * Cidle  \n",
    "                    if i < len(Aw1) - 1 and Aw1[i+1] == 1:\n",
    "                        if switch == 1:\n",
    "                            switchCost_opt += Cs\n",
    "                            for i in range(count): \n",
    "                                Xsv_opt.append(0)\n",
    "                        else:\n",
    "                            for i in range(count): \n",
    "                                Xsv_opt.append(1)\n",
    "                            energyCost_opt += temp_energyCost\n",
    "            totalCoST_opt = energyCost_opt + switchCost_opt\n",
    "\n",
    "            DPOA += totalCost_DPOA\n",
    "            RPOA += totalCost_RPOA\n",
    "            OPT += OPT1\n",
    "        _DPOA = DPOA / OPT\n",
    "        _RPOA = RPOA / OPT\n",
    "        plot_1.append(_DPOA)\n",
    "        plot_2.append(_RPOA)\n",
    "    plot_DPOA.append(np.mean(plot_1))\n",
    "    plot_RPOA.append(np.mean(plot_2))\n"
   ]
  },
  {
   "cell_type": "code",
   "execution_count": 17,
   "metadata": {},
   "outputs": [
    {
     "data": {
      "image/png": "[encoded data removed]",
      "text/plain": [
       "<Figure size 432x288 with 1 Axes>"
      ]
     },
     "metadata": {
      "needs_background": "light"
     },
     "output_type": "display_data"
    }
   ],
   "source": [
    "w_list = np.arange(0,1,0.1)\n",
    "plot_DPOA = [1.949, 1.893, 1.770, 1.681, 1.590, 1.470, 1.391,1.280 , 1.189, 1.100]\n",
    "plot_RPOA = [1.574, 1.493, 1.433, 1.365, 1.316, 1.272, 1.214,1.150, 1.102, 1.046]\n",
    "plt.clf()\n",
    "plt.plot(plot_DPOA,label=\"dSPW\", color='b')\n",
    "plt.plot(plot_RPOA,label=\"rSPW\", color='g')\n",
    "\n",
    "plt.legend(loc='upper right')\n",
    "plt.xlabel(\"$\\omega$\", fontsize=16)\n",
    "plt.ylabel(\"Competitive Ratio\", fontsize=16)\n",
    "formated_list = ['%.1f' % elem for elem in w_list]\n",
    "plt.xticks(np.arange(10), formated_list)\n",
    "plt.ylim(1.0,2.0)\n",
    "# plt.savefig(\"datacenter\", dpi=1000)"
   ]
  },
  {
   "cell_type": "code",
   "execution_count": 13,
   "metadata": {},
   "outputs": [
    {
     "data": {
      "image/png": "[encoded data removed]",
      "text/plain": [
       "<Figure size 432x288 with 1 Axes>"
      ]
     },
     "metadata": {
      "needs_background": "light"
     },
     "output_type": "display_data"
    }
   ],
   "source": [
    "std_list = np.arange(0,22,2)\n",
    "w = 0.5\n",
    "plot_DPOA = [1.411, 1.470,1.485,1.490,1.493,1.495,1.496,1.496,1.502,1.505,1.510]\n",
    "plot_RPOA = [1.267,1.362,1.396,1.406,1.413,1.418,1.416,1.419,1.420,1.423,1.424]\n",
    "plt.clf()\n",
    "plt.plot(plot_DPOA,label=\"dSPW\", color='b')\n",
    "plt.plot(plot_RPOA,label=\"rSPW\", color='g')\n",
    "\n",
    "plt.legend(loc='lower right')\n",
    "plt.xlabel(\"$\\sigma$\", fontsize=16)\n",
    "plt.ylabel(\"Competitive Ratio\", fontsize=16)\n",
    "formated_list = [elem for elem in std_list]\n",
    "plt.xticks(np.arange(11), std_list)\n",
    "plt.ylim(1.20,1.55)\n",
    "# plt.savefig(\"datacenter1\", dpi=1000)"
   ]
  },
  {
   "cell_type": "code",
   "execution_count": 49,
   "metadata": {},
   "outputs": [],
   "source": []
  },
  {
   "cell_type": "code",
   "execution_count": 50,
   "metadata": {},
   "outputs": [
    {
     "data": {
      "text/plain": [
       "array([0])"
      ]
     },
     "execution_count": 50,
     "metadata": {},
     "output_type": "execute_result"
    }
   ],
   "source": []
  }
 ],
 "metadata": {
  "kernelspec": {
   "display_name": "Python 3",
   "language": "python",
   "name": "python3"
  },
  "language_info": {
   "codemirror_mode": {
    "name": "ipython",
    "version": 3
   },
   "file_extension": ".py",
   "mimetype": "text/x-python",
   "name": "python",
   "nbconvert_exporter": "python",
   "pygments_lexer": "ipython3",
   "version": "3.8.3"
  }
 },
 "nbformat": 4,
 "nbformat_minor": 4
}
