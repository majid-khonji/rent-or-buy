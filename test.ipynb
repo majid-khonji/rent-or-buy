{
 "cells": [
  {
   "cell_type": "code",
   "execution_count": 121,
   "metadata": {},
   "outputs": [],
   "source": [
    "import input as i\n",
    "import alg as a\n",
    "import numpy as np\n",
    "from importlib import reload\n",
    "reload(i); reload(a);\n",
    "import matplotlib.pyplot as plt\n",
    "import pandas as pd"
   ]
  },
  {
   "cell_type": "markdown",
   "metadata": {},
   "source": [
    "## Quick Test: DPOA($\\omega$)\n",
    "A random instance with $D \\in [0,100], B = 60$ with perfect predictor, $\\omega = 0.1$."
   ]
  },
  {
   "cell_type": "code",
   "execution_count": 79,
   "metadata": {},
   "outputs": [
    {
     "name": "stdout",
     "output_type": "stream",
     "text": [
      "D =  83  B =  60\n",
      "1.900-consistant\n"
     ]
    }
   ],
   "source": [
    "ins = i.Instance(B=60) # a random instant D\n",
    "w = .1\n",
    "print(\"D = \", ins.D, \" B = \", ins.B)\n",
    "p = i.PerfectPredictor(ins)\n",
    "alg = a.DPOA(ins, p, w)\n",
    "opt = a.OPT(ins)\n",
    "print(\"{0:.3f}-consistant\".format(alg/opt))"
   ]
  },
  {
   "cell_type": "markdown",
   "metadata": {},
   "source": [
    "## Experiment 1: DPOA($\\omega$)\n",
    "$\\omega = 0, 0.1,0.2,..., 1$; each scenario repeated 25 times; $B = 60$."
   ]
  },
  {
   "cell_type": "code",
   "execution_count": 85,
   "metadata": {},
   "outputs": [],
   "source": [
    "w_list = np.arange(0,1.1,.1)\n",
    "repeat = 100\n",
    "c_ratio = np.zeros((len(w_list), repeat))\n",
    "for idx,w in enumerate(w_list):\n",
    "    for j in np.arange(repeat):\n",
    "        ins = i.Instance(B=60)\n",
    "#         print(\"D = \", ins.D, \" B = \", ins.B)\n",
    "        p = i.PrefectPredictor(ins)\n",
    "        alg = a.DPOA(ins, p, w)\n",
    "        opt = a.OPT(ins)\n",
    "#         print(\"{0:.3f}-consistant\".format(alg/opt))\n",
    "        c_ratio[idx, j] = alg/opt\n",
    "        \n"
   ]
  },
  {
   "cell_type": "code",
   "execution_count": 86,
   "metadata": {},
   "outputs": [
    {
     "data": {
      "image/png": "[encoded data removed]",
      "text/plain": [
       "<Figure size 432x288 with 1 Axes>"
      ]
     },
     "metadata": {
      "needs_background": "light"
     },
     "output_type": "display_data"
    }
   ],
   "source": [
    "plt.clf()\n",
    "plt.xlabel(\"$\\omega$\", fontsize=16)\n",
    "plt.ylabel(\"Consistency Ratio\", fontsize=16)\n",
    "\n",
    "plt.boxplot(c_ratio.transpose());\n",
    "positions = np.arange(1, len(w_list)+1)\n",
    "formated_list = ['%.1f' % elem for elem in w_list ]\n",
    "plt.xticks(positions, formated_list);"
   ]
  },
  {
   "cell_type": "markdown",
   "metadata": {},
   "source": [
    "## Experiment 2: RPOA($\\omega$)"
   ]
  },
  {
   "cell_type": "code",
   "execution_count": 129,
   "metadata": {},
   "outputs": [],
   "source": [
    "w_list = np.arange(0,1,.1)\n",
    "repeat = 30\n",
    "alg_reps = 100\n",
    "c_ratio = np.zeros((len(w_list), repeat))\n",
    "for idx,w in enumerate(w_list):\n",
    "    for j in np.arange(repeat):\n",
    "        ins = i.Instance(B=50)\n",
    "        p = i.PrefectPredictor(ins)\n",
    "        \n",
    "        alg_total = 0\n",
    "        for l in range(alg_reps):\n",
    "            alg_total += a.RPOA(ins, p, w)\n",
    "        opt = a.OPT(ins)\n",
    "        alg_avg = alg_total/alg_reps\n",
    "        c_ratio[idx, j] = alg_avg/opt"
   ]
  },
  {
   "cell_type": "code",
   "execution_count": 133,
   "metadata": {},
   "outputs": [
    {
     "name": "stdout",
     "output_type": "stream",
     "text": [
      "[1.71705234 1.56768917 1.39916229 1.32349857 1.33723253 1.20562697\n",
      " 1.15461941 1.15110881 1.05858424 1.02983554]\n"
     ]
    },
    {
     "data": {
      "text/plain": [
       "<matplotlib.legend.Legend at 0x1eeb9ab7108>"
      ]
     },
     "execution_count": 133,
     "metadata": {},
     "output_type": "execute_result"
    },
    {
     "data": {
      "image/png": "[encoded data removed]",
      "text/plain": [
       "<Figure size 432x288 with 1 Axes>"
      ]
     },
     "metadata": {
      "needs_background": "light"
     },
     "output_type": "display_data"
    }
   ],
   "source": [
    "avg_ratio = c_ratio.sum(axis=1)/repeat\n",
    "print(avg_ratio)\n",
    "plt.clf()\n",
    "plt.xlabel(\"$\\omega$\", fontsize=16)\n",
    "plt.ylabel(\"Consistency Ratio\", fontsize=16)\n",
    "plt.plot([1, 10], [np.exp(1)/(np.exp(1) - 1), (np.exp(1)-.9)/(np.exp(1) - .9)  ], label= \"Theoretical Ratio\")\n",
    "plt.boxplot(c_ratio.transpose());\n",
    "positions = np.arange(1, len(w_list)+1)\n",
    "plt.plot(positions, avg_ratio, label = \"Average [100 reps]\")\n",
    "formated_list = ['%.1f' % elem for elem in w_list ]\n",
    "plt.xticks(positions, formated_list);\n",
    "plt.legend()\n",
    "\n"
   ]
  },
  {
   "cell_type": "code",
   "execution_count": 118,
   "metadata": {},
   "outputs": [
    {
     "data": {
      "text/plain": [
       "(10, 30)"
      ]
     },
     "execution_count": 118,
     "metadata": {},
     "output_type": "execute_result"
    }
   ],
   "source": [
    "\n"
   ]
  },
  {
   "cell_type": "code",
   "execution_count": null,
   "metadata": {},
   "outputs": [],
   "source": []
  }
 ],
 "metadata": {
  "kernelspec": {
   "display_name": "Python 3",
   "language": "python",
   "name": "python3"
  },
  "language_info": {
   "codemirror_mode": {
    "name": "ipython",
    "version": 3
   },
   "file_extension": ".py",
   "mimetype": "text/x-python",
   "name": "python",
   "nbconvert_exporter": "python",
   "pygments_lexer": "ipython3",
   "version": "3.7.6"
  }
 },
 "nbformat": 4,
 "nbformat_minor": 4
}
